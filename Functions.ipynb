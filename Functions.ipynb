{
  "nbformat": 4,
  "nbformat_minor": 0,
  "metadata": {
    "colab": {
      "provenance": []
    },
    "kernelspec": {
      "name": "python3",
      "display_name": "Python 3"
    },
    "language_info": {
      "name": "python"
    }
  },
  "cells": [
    {
      "cell_type": "markdown",
      "source": [
        "Theory Questions"
      ],
      "metadata": {
        "id": "nqACc4TNl5kH"
      }
    },
    {
      "cell_type": "markdown",
      "source": [
        "1. What is the difference between a function and a method in Python?"
      ],
      "metadata": {
        "id": "_PY7th6Wl_f2"
      }
    },
    {
      "cell_type": "markdown",
      "source": [
        "Answer- Function: A block of code that performs a specific task and can be called anywhere in the program. It is defined using the def keyword.\n",
        "Method: A function associated with an object. It can operate on the data contained in the object. Methods are invoked using the object they belong to."
      ],
      "metadata": {
        "id": "WAhEOy-hmMNq"
      }
    },
    {
      "cell_type": "markdown",
      "source": [
        "2. Explain the concept of function arguments and parameters in Python.\n",
        "\n",
        "Answer- Parameters: Variables defined in a function signature to receive inputs.\n",
        "\n",
        "Arguments: Actual values passed to a function during its call."
      ],
      "metadata": {
        "id": "uw69_q-jmVkU"
      }
    },
    {
      "cell_type": "markdown",
      "source": [
        "3. What are the different ways to define and call a function in Python?"
      ],
      "metadata": {
        "id": "MKt7ejQTmpxy"
      }
    },
    {
      "cell_type": "markdown",
      "source": [
        "Answer- Define a function: Use the def keyword.\n",
        "\n",
        "def greet():\n",
        "    print(\"Hello!\")\n",
        "\n",
        "Call a function:\n",
        "\n",
        "greet()\n",
        "\n",
        "Functions can also be anonymous (lambda functions). Example:\n",
        "\n",
        "square = lambda x: x * x\n",
        "print(square(5))"
      ],
      "metadata": {
        "id": "rXI6EHrYnFz9"
      }
    },
    {
      "cell_type": "markdown",
      "source": [
        "4. 4. What is the purpose of the return statement in a Python function?\n",
        "\n",
        "Answer- The return statement is used to send a result back to the caller of the function. Example:"
      ],
      "metadata": {
        "id": "1TiNXO3YnKvX"
      }
    },
    {
      "cell_type": "code",
      "source": [
        "def square(x):\n",
        "    return x * x\n",
        "print(square(4))"
      ],
      "metadata": {
        "colab": {
          "base_uri": "https://localhost:8080/"
        },
        "id": "lUa71xgZnTWr",
        "outputId": "12e1678c-ec0d-4139-d95a-032167c24132"
      },
      "execution_count": 1,
      "outputs": [
        {
          "output_type": "stream",
          "name": "stdout",
          "text": [
            "16\n"
          ]
        }
      ]
    },
    {
      "cell_type": "markdown",
      "source": [
        "5. What are iterators in Python and how do they differ from iterables?\n",
        "Answer- Iterators: Objects that represent a stream of data and can be traversed using _next_().\n",
        "\n",
        "Iterables: Objects capable of returning an iterator (e.g., lists, strings)."
      ],
      "metadata": {
        "id": "cH3BjinIndlR"
      }
    },
    {
      "cell_type": "markdown",
      "source": [
        "6. Explain the concept of generators in Python and how they are defined.\n",
        "\n",
        "Answer- Generators are special iterators that yield items lazily using the yield keyword. Example:"
      ],
      "metadata": {
        "id": "bwMRGlQrnui5"
      }
    },
    {
      "cell_type": "code",
      "source": [
        "def count_up_to(n):\n",
        "    for i in range(1, n + 1):\n",
        "        yield i\n",
        "for num in count_up_to(5):\n",
        "    print(num)"
      ],
      "metadata": {
        "colab": {
          "base_uri": "https://localhost:8080/"
        },
        "id": "JEQOgqkBn4wm",
        "outputId": "61210ed3-ab13-463b-cd50-b2c18daea135"
      },
      "execution_count": 2,
      "outputs": [
        {
          "output_type": "stream",
          "name": "stdout",
          "text": [
            "1\n",
            "2\n",
            "3\n",
            "4\n",
            "5\n"
          ]
        }
      ]
    },
    {
      "cell_type": "markdown",
      "source": [
        "7. What are the advantages of using generators over regular functions?\n",
        "\n",
        "Answer- They are Memory-efficient and generate items one at a time. it is\n",
        "\n",
        "Useful for large datasets and infinite sequences.\n"
      ],
      "metadata": {
        "id": "8sELfyPioB1W"
      }
    },
    {
      "cell_type": "markdown",
      "source": [
        "8. What is a lambda function in Python and when is it typically used?\n",
        "\n",
        "Answer- A lambda function is an anonymous, single-expression function. Syntax: lambda arguments: expression.\n",
        "\n",
        "It is typically used for short, simple operations."
      ],
      "metadata": {
        "id": "6o6Shl8xoJmr"
      }
    },
    {
      "cell_type": "markdown",
      "source": [
        "9. Explain the purpose and usage of the map() function in Python.\n",
        "\n",
        "Answer- map() applies a function to all items in an iterable. Example:"
      ],
      "metadata": {
        "id": "Dt4Bo1X7op8i"
      }
    },
    {
      "cell_type": "code",
      "source": [
        "numbers = [1, 2, 3]\n",
        "squares = map(lambda x: x * x, numbers)\n",
        "print(list(squares))"
      ],
      "metadata": {
        "colab": {
          "base_uri": "https://localhost:8080/"
        },
        "id": "y2mO4mCdpQfY",
        "outputId": "46624ab4-ade9-4188-ac03-b4c53fe81a56"
      },
      "execution_count": 3,
      "outputs": [
        {
          "output_type": "stream",
          "name": "stdout",
          "text": [
            "[1, 4, 9]\n"
          ]
        }
      ]
    },
    {
      "cell_type": "markdown",
      "source": [
        "10. 10. What is the difference between map(), reduce(), and filter() functions in Python?\n",
        "\n",
        "Answer- map(): Applies a function to each item in an iterable.\n",
        "\n",
        "reduce(): Applies a function cumulatively to items in an iterable. Requires functools.reduce.\n",
        "\n",
        "filter(): Filters items in an iterable based on a condition."
      ],
      "metadata": {
        "id": "-MIIPMYJpYym"
      }
    },
    {
      "cell_type": "markdown",
      "source": [
        "11. Using pen & paper, write the internal mechanism for the sum operation using reduce() on the list [47, 11, 42, 13]."
      ],
      "metadata": {
        "id": "iibJOvd2puYw"
      }
    },
    {
      "cell_type": "markdown",
      "source": [
        "![Functions.jpeg](data:image/jpeg;base64,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)"
      ],
      "metadata": {
        "id": "i9rQtBufrF5Y"
      }
    },
    {
      "cell_type": "markdown",
      "source": [
        "**Theory Questions**"
      ],
      "metadata": {
        "id": "15W0GbICraKJ"
      }
    },
    {
      "cell_type": "code",
      "source": [
        "#1. Write a Python function that takes a list of numbers as input and returns the sum of all the numbers."
      ],
      "metadata": {
        "id": "QB7HTpY4r5XZ"
      },
      "execution_count": null,
      "outputs": []
    },
    {
      "cell_type": "code",
      "source": [
        "def sum_of_numbers(numbers):\n",
        "    return sum(numbers)\n",
        "print(sum_of_numbers([1, 2, 3, 4]))"
      ],
      "metadata": {
        "colab": {
          "base_uri": "https://localhost:8080/"
        },
        "id": "tzIQS5Xir9uC",
        "outputId": "405f7f97-f122-4465-d027-d5af70adf924"
      },
      "execution_count": 4,
      "outputs": [
        {
          "output_type": "stream",
          "name": "stdout",
          "text": [
            "10\n"
          ]
        }
      ]
    },
    {
      "cell_type": "code",
      "source": [
        "#2. Create a Python function that accepts a string and returns the reverse of that string."
      ],
      "metadata": {
        "id": "L5AToTT4sEN_"
      },
      "execution_count": null,
      "outputs": []
    },
    {
      "cell_type": "code",
      "source": [
        "def reverse_string(s):\n",
        "    return s[::-1]\n",
        "print(reverse_string(\"hello\"))"
      ],
      "metadata": {
        "colab": {
          "base_uri": "https://localhost:8080/"
        },
        "id": "nvD_PlXLsIW0",
        "outputId": "fbc588fe-05a4-445d-e9f4-8b1a615d27c6"
      },
      "execution_count": 5,
      "outputs": [
        {
          "output_type": "stream",
          "name": "stdout",
          "text": [
            "olleh\n"
          ]
        }
      ]
    },
    {
      "cell_type": "code",
      "source": [
        "#3. Implement a Python function that takes a list of integers and returns a new list containing the squares of each number."
      ],
      "metadata": {
        "id": "_b632R8EsNF8"
      },
      "execution_count": null,
      "outputs": []
    },
    {
      "cell_type": "code",
      "source": [
        "def square_numbers(numbers):\n",
        "    return [x**2 for x in numbers]\n",
        "print(square_numbers([1, 2, 3]))"
      ],
      "metadata": {
        "colab": {
          "base_uri": "https://localhost:8080/"
        },
        "id": "wIAk9luTsRsL",
        "outputId": "fc7b29fe-907d-4f94-ceb9-7e0e3af00673"
      },
      "execution_count": 6,
      "outputs": [
        {
          "output_type": "stream",
          "name": "stdout",
          "text": [
            "[1, 4, 9]\n"
          ]
        }
      ]
    },
    {
      "cell_type": "code",
      "source": [
        "#4. Write a Python function that checks if a given number is prime or not from 1 to 200."
      ],
      "metadata": {
        "id": "OrzW87vQsWEV"
      },
      "execution_count": null,
      "outputs": []
    },
    {
      "cell_type": "code",
      "source": [
        "def is_prime(num):\n",
        "    if num < 2:\n",
        "        return False\n",
        "    for i in range(2, int(num**0.5) + 1):\n",
        "        if num % i == 0:\n",
        "            return False\n",
        "    return True\n",
        "primes = [n for n in range(1, 201) if is_prime(n)]\n",
        "print(primes)"
      ],
      "metadata": {
        "colab": {
          "base_uri": "https://localhost:8080/"
        },
        "id": "a4E9azNgsabA",
        "outputId": "889161b1-a3d1-4270-f4ec-60c68420f8ef"
      },
      "execution_count": 7,
      "outputs": [
        {
          "output_type": "stream",
          "name": "stdout",
          "text": [
            "[2, 3, 5, 7, 11, 13, 17, 19, 23, 29, 31, 37, 41, 43, 47, 53, 59, 61, 67, 71, 73, 79, 83, 89, 97, 101, 103, 107, 109, 113, 127, 131, 137, 139, 149, 151, 157, 163, 167, 173, 179, 181, 191, 193, 197, 199]\n"
          ]
        }
      ]
    },
    {
      "cell_type": "code",
      "source": [
        "#5. Create an Iterator class in Python that generates the Fibonacci sequence up to a specified number of terms."
      ],
      "metadata": {
        "id": "Nk01DUnrsiV0"
      },
      "execution_count": null,
      "outputs": []
    },
    {
      "cell_type": "code",
      "source": [
        "class Fibonacci:\n",
        "    def _init_(self, n):\n",
        "        self.n = n\n",
        "        self.a, self.b = 0, 1\n",
        "        self.count = 0\n",
        "\n",
        "    def _iter_(self):\n",
        "        return self\n",
        "\n",
        "    def _next_(self):\n",
        "        if self.count >= self.n:\n",
        "            raise StopIteration\n",
        "        self.count += 1\n",
        "        result = self.a\n",
        "        self.a, self.b = self.b, self.a + self.b\n",
        "        return result\n",
        "\n",
        "fib = Fibonacci(10)\n",
        "print(list(fib))"
      ],
      "metadata": {
        "id": "E3wZeTY9tj_4"
      },
      "execution_count": null,
      "outputs": []
    },
    {
      "cell_type": "code",
      "source": [
        "#6. Write a generator function in Python that yields the powers of 2 up to a given exponent."
      ],
      "metadata": {
        "id": "CzIKHKUstljg"
      },
      "execution_count": null,
      "outputs": []
    },
    {
      "cell_type": "code",
      "source": [
        "def powers_of_two(max_exponent):\n",
        "    for i in range(max_exponent + 1):\n",
        "        yield 2**i\n",
        "print(list(powers_of_two(5)))"
      ],
      "metadata": {
        "colab": {
          "base_uri": "https://localhost:8080/"
        },
        "id": "FJPn1kgbtswX",
        "outputId": "5c1fe02e-b44d-468c-ad4e-303aeb44ae93"
      },
      "execution_count": 11,
      "outputs": [
        {
          "output_type": "stream",
          "name": "stdout",
          "text": [
            "[1, 2, 4, 8, 16, 32]\n"
          ]
        }
      ]
    },
    {
      "cell_type": "code",
      "source": [
        "#7. Implement a generator function that reads a file line by line and yields each line as a string."
      ],
      "metadata": {
        "id": "L9atNuz8tz-T"
      },
      "execution_count": null,
      "outputs": []
    },
    {
      "cell_type": "code",
      "source": [
        "def read_file_line_by_line(filename):\n",
        "    with open(filename, 'r') as file:\n",
        "        for line in file:\n",
        "            yield line.strip()"
      ],
      "metadata": {
        "id": "cTXW8jv-t-mz"
      },
      "execution_count": 13,
      "outputs": []
    },
    {
      "cell_type": "code",
      "source": [
        "#8. Use a lambda function in Python to sort a list of tuples based on the second element of each tuple."
      ],
      "metadata": {
        "id": "Ka-1Y7rpuTsS"
      },
      "execution_count": null,
      "outputs": []
    },
    {
      "cell_type": "code",
      "source": [
        "tuples = [(1, 3), (4, 1), (2, 2)]\n",
        "sorted_tuples = sorted(tuples, key=lambda x: x[1])\n",
        "print(sorted_tuples)"
      ],
      "metadata": {
        "colab": {
          "base_uri": "https://localhost:8080/"
        },
        "id": "tIQvVsakucWI",
        "outputId": "1ef8041a-d160-42ee-cb5a-8b2c9d4bfa5d"
      },
      "execution_count": 14,
      "outputs": [
        {
          "output_type": "stream",
          "name": "stdout",
          "text": [
            "[(4, 1), (2, 2), (1, 3)]\n"
          ]
        }
      ]
    },
    {
      "cell_type": "code",
      "source": [
        "#9. Write a Python program that uses `map()` to convert a list of temperatures from Celsius to Fahrenheit."
      ],
      "metadata": {
        "id": "LVAZRzBquluH"
      },
      "execution_count": null,
      "outputs": []
    },
    {
      "cell_type": "code",
      "source": [
        "celsius = [0, 20, 30]\n",
        "fahrenheit = list(map(lambda c: (c * 9/5) + 32, celsius))\n",
        "print(fahrenheit)"
      ],
      "metadata": {
        "colab": {
          "base_uri": "https://localhost:8080/"
        },
        "id": "59_4VrpUuuGN",
        "outputId": "ecde80ee-333c-48d2-8900-3b465888e5e2"
      },
      "execution_count": 15,
      "outputs": [
        {
          "output_type": "stream",
          "name": "stdout",
          "text": [
            "[32.0, 68.0, 86.0]\n"
          ]
        }
      ]
    },
    {
      "cell_type": "code",
      "source": [
        "#10. Create a Python program that uses `filter()` to remove all the vowels from a given string"
      ],
      "metadata": {
        "id": "XPGEjBC0u3d_"
      },
      "execution_count": null,
      "outputs": []
    },
    {
      "cell_type": "code",
      "source": [
        "def remove_vowels(s):\n",
        "    return ''.join(filter(lambda x: x.lower() not in 'aeiou', s))\n",
        "print(remove_vowels(\"hello world\"))"
      ],
      "metadata": {
        "colab": {
          "base_uri": "https://localhost:8080/"
        },
        "id": "hxBilAA3u9KJ",
        "outputId": "78c7de91-c9df-4cb5-8f25-03760dccdf6d"
      },
      "execution_count": 16,
      "outputs": [
        {
          "output_type": "stream",
          "name": "stdout",
          "text": [
            "hll wrld\n"
          ]
        }
      ]
    },
    {
      "cell_type": "code",
      "source": [
        "#11.  Imagine an accounting routine used in a book shop. It works on a list with sublists, which look like this: Write a Python program, which returns a list with 2-tuples. Each tuple consists of the order number and the product of the price per item and the quantity. The product should be increased by 10,- € if the value of the order is smaller than 100,00 €."
      ],
      "metadata": {
        "id": "gyWNGI9ovG_u"
      },
      "execution_count": null,
      "outputs": []
    },
    {
      "cell_type": "code",
      "source": [
        "orders = [\n",
        "    [34587, \"Learning Python\", 4, 40.95],\n",
        "    [98762, \"Programming Python\", 5, 56.80],\n",
        "    [77226, \"Head First Python\", 3, 32.95],\n",
        "    [88112, \"Einfuhrung in Python\", 3, 24.99],\n",
        "]\n",
        "\n",
        "def calculate_total(orders):\n",
        "    result = []\n",
        "    for order in orders:\n",
        "        order_number = order[0]\n",
        "        total = order[2] * order[3]\n",
        "        if total < 100:\n",
        "            total *= 1.10  # Add 10%\n",
        "        result.append((order_number, round(total, 2)))\n",
        "    return result\n",
        "\n",
        "print(calculate_total(orders))"
      ],
      "metadata": {
        "colab": {
          "base_uri": "https://localhost:8080/"
        },
        "id": "xEjrsCKyvRJY",
        "outputId": "8e43a66c-989b-4f7b-be9b-b411383d00c7"
      },
      "execution_count": 17,
      "outputs": [
        {
          "output_type": "stream",
          "name": "stdout",
          "text": [
            "[(34587, 163.8), (98762, 284.0), (77226, 108.74), (88112, 82.47)]\n"
          ]
        }
      ]
    }
  ]
}